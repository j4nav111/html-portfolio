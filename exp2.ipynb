{
  "nbformat": 4,
  "nbformat_minor": 0,
  "metadata": {
    "colab": {
      "provenance": [],
      "authorship_tag": "ABX9TyO3seOC7VGInw2F0fSizM2o",
      "include_colab_link": true
    },
    "kernelspec": {
      "name": "python3",
      "display_name": "Python 3"
    },
    "language_info": {
      "name": "python"
    }
  },
  "cells": [
    {
      "cell_type": "markdown",
      "metadata": {
        "id": "view-in-github",
        "colab_type": "text"
      },
      "source": [
        "<a href=\"https://colab.research.google.com/github/j4nav111/html-portfolio/blob/main/exp2.ipynb\" target=\"_parent\"><img src=\"https://colab.research.google.com/assets/colab-badge.svg\" alt=\"Open In Colab\"/></a>"
      ]
    },
    {
      "cell_type": "code",
      "execution_count": null,
      "metadata": {
        "colab": {
          "base_uri": "https://localhost:8080/"
        },
        "id": "7POy0-CNNugI",
        "outputId": "92d906f4-1a77-45e0-b2f5-257d954efcd8"
      },
      "outputs": [
        {
          "output_type": "stream",
          "name": "stdout",
          "text": [
            "Enter the year: 2024\n",
            "The year is a leap year.\n"
          ]
        }
      ],
      "source": [
        "#Code 1\n",
        "year=int(input(\"Enter the year: \"))\n",
        "if year%4==0:\n",
        "  print(\"The year is a leap year.\")\n",
        "else:\n",
        "  print(\"The year is not a leap year.\")"
      ]
    },
    {
      "cell_type": "code",
      "source": [
        "#Code 2\n",
        "maths=int(input(\"Enter marks of the first subject: \"))\n",
        "phy=int(input(\"Enter marks of the second subject: \"))\n",
        "chem=int(input(\"Enter marks of the third subject: \"))\n",
        "comp=int(input(\"Enter marks of the fourth subject: \"))\n",
        "arts=int(input(\"Enter marks of the fifth subject: \"))\n",
        "avg=(maths+phy+chem+comp+arts)/5\n",
        "if(avg>=90):\n",
        "    print(\"Grade: A\")\n",
        "elif(avg>=80 and avg<90):\n",
        "    print(\"Grade: B\")\n",
        "elif(avg>=70 and avg<80):\n",
        "    print(\"Grade: C\")\n",
        "elif(avg>=60 and avg<70):\n",
        "    print(\"Grade: D\")\n",
        "else:\n",
        "    print(\"Grade: F(FAIL)\")"
      ],
      "metadata": {
        "colab": {
          "base_uri": "https://localhost:8080/"
        },
        "id": "jrfPogJsLX7S",
        "outputId": "7e9b925f-b09f-4091-e94e-bc187eedd1ae"
      },
      "execution_count": 1,
      "outputs": [
        {
          "output_type": "stream",
          "name": "stdout",
          "text": [
            "Enter marks of the first subject: 99\n",
            "Enter marks of the second subject: 85\n",
            "Enter marks of the third subject: 45\n",
            "Enter marks of the fourth subject: 60\n",
            "Enter marks of the fifth subject: 100\n",
            "Grade: C\n"
          ]
        }
      ]
    },
    {
      "cell_type": "code",
      "source": [
        "#Code 3\n",
        "import math\n",
        "n=int(input(\"Enter no. to find its square root: \"))\n",
        "print(\"The square root is: \")\n",
        "print(math.sqrt(n))"
      ],
      "metadata": {
        "id": "FnGC7ywiOCo6",
        "colab": {
          "base_uri": "https://localhost:8080/"
        },
        "outputId": "7ba6a2d5-e828-41d1-afa0-dd6d5b89df5a"
      },
      "execution_count": 2,
      "outputs": [
        {
          "output_type": "stream",
          "name": "stdout",
          "text": [
            "Enter no. to find its square root: 525\n",
            "The square root is: \n",
            "22.9128784747792\n"
          ]
        }
      ]
    },
    {
      "cell_type": "code",
      "source": [
        "#Code 4\n",
        "n1=int(input(\"Enter first no.: \"))\n",
        "n2=int(input(\"Enter second no.: \"))\n",
        "n3=int(input(\"Enter third no.: \"))\n",
        "if n1>n2:\n",
        "  print(\"The greatest no. is: \",n1)\n",
        "elif n2>n3:\n",
        "  print(\"The greatest no. is: \",n2)\n",
        "elif n3>n1:\n",
        "  print(\"The greatest no. is: \",n3)\n",
        "else:\n",
        "  print(\"All numbers are equal!\")"
      ],
      "metadata": {
        "colab": {
          "base_uri": "https://localhost:8080/"
        },
        "id": "vIP5xHYMr78o",
        "outputId": "23d5faab-abcd-408a-ae50-4764a4148bb2"
      },
      "execution_count": 5,
      "outputs": [
        {
          "output_type": "stream",
          "name": "stdout",
          "text": [
            "Enter first no.: 12\n",
            "Enter second no.: 12\n",
            "Enter third no.: 12\n",
            "All numbers are equal!\n"
          ]
        }
      ]
    },
    {
      "cell_type": "code",
      "source": [
        "#Code 5\n",
        "n=int(input(\"Enter number: \"))\n",
        "if n>0:\n",
        "  print(\"It is positive.\")\n",
        "elif n<0:\n",
        "  print(\"It is negative.\")\n",
        "else:\n",
        "  print(\"It is zero.\")"
      ],
      "metadata": {
        "colab": {
          "base_uri": "https://localhost:8080/"
        },
        "id": "ejbPWXirtLJ5",
        "outputId": "c0187f44-bbdd-4a9d-8153-38421e0cad58"
      },
      "execution_count": 6,
      "outputs": [
        {
          "output_type": "stream",
          "name": "stdout",
          "text": [
            "Enter number: -65\n",
            "It is negative.\n"
          ]
        }
      ]
    }
  ]
}