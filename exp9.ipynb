{
  "nbformat": 4,
  "nbformat_minor": 0,
  "metadata": {
    "colab": {
      "provenance": [],
      "authorship_tag": "ABX9TyOp+Q+cFkHPkU7SIwgbcOhB",
      "include_colab_link": true
    },
    "kernelspec": {
      "name": "python3",
      "display_name": "Python 3"
    },
    "language_info": {
      "name": "python"
    }
  },
  "cells": [
    {
      "cell_type": "markdown",
      "metadata": {
        "id": "view-in-github",
        "colab_type": "text"
      },
      "source": [
        "<a href=\"https://colab.research.google.com/github/j4nav111/html-portfolio/blob/main/exp9.ipynb\" target=\"_parent\"><img src=\"https://colab.research.google.com/assets/colab-badge.svg\" alt=\"Open In Colab\"/></a>"
      ]
    },
    {
      "cell_type": "code",
      "execution_count": 1,
      "metadata": {
        "colab": {
          "base_uri": "https://localhost:8080/"
        },
        "id": "hsp6i2znpfkS",
        "outputId": "653f74e0-410f-49ef-bcc4-56dfd6cd093c"
      },
      "outputs": [
        {
          "output_type": "stream",
          "name": "stdout",
          "text": [
            "Name: Ruby\n",
            "Ruby is singing\n"
          ]
        }
      ],
      "source": [
        "#Single Inheritance\n",
        "\n",
        "# Base class\n",
        "class Person:\n",
        "    def __init__(self, name):\n",
        "        self.name = name\n",
        "\n",
        "    def display_name(self):\n",
        "        print(f\"Name: {self.name}\")\n",
        "\n",
        "# Derived class\n",
        "class Student(Person):\n",
        "    def study(self):\n",
        "        print(f\"{self.name} is singing\")\n",
        "\n",
        "student = Student(\"Ruby\")\n",
        "student.display_name()  # Inherited method\n",
        "student.study()         # Derived class method\n"
      ]
    },
    {
      "cell_type": "code",
      "source": [
        "#Multiple Inheritance\n",
        "\n",
        "# Base classes\n",
        "class Person:\n",
        "    def __init__(self, name):\n",
        "        self.name = name\n",
        "\n",
        "class Course:\n",
        "    def __init__(self, course_name):\n",
        "        self.course_name = course_name\n",
        "\n",
        "# Derived class\n",
        "class CourseStudent(Person, Course):\n",
        "    def __init__(self, name, course_name):\n",
        "        Person.__init__(self, name)\n",
        "        Course.__init__(self, course_name)\n",
        "\n",
        "    def enroll(self):\n",
        "        print(f\"{self.name} has enrolled in {self.course_name}\")\n",
        "\n",
        "# Example Usage\n",
        "student = CourseStudent(\"Rohan\", \"Python Programming!\")\n",
        "student.enroll()  # Method from CourseStudent\n"
      ],
      "metadata": {
        "colab": {
          "base_uri": "https://localhost:8080/"
        },
        "id": "Bwr-o5wMqiY3",
        "outputId": "abae17d5-5e8f-4545-98b3-dfc4a2ad2a79"
      },
      "execution_count": 3,
      "outputs": [
        {
          "output_type": "stream",
          "name": "stdout",
          "text": [
            "Rohan has enrolled in Python Programming!\n"
          ]
        }
      ]
    },
    {
      "cell_type": "code",
      "source": [
        "#Multi-level Inheritance\n",
        "\n",
        "# Base class\n",
        "class University:\n",
        "    def __init__(self, name):\n",
        "        self.name = name\n",
        "\n",
        "    def display_university(self):\n",
        "        print(f\"University: {self.name}\")\n",
        "\n",
        "# Derived class\n",
        "class Department(University):\n",
        "    def __init__(self, name, department_name):\n",
        "        super().__init__(name)\n",
        "        self.department_name = department_name\n",
        "\n",
        "    def display_department(self):\n",
        "        print(f\"Department: {self.department_name}\")\n",
        "\n",
        "# Further derived class\n",
        "class Student(Department):\n",
        "    def __init__(self, name, department_name, student_name):\n",
        "        super().__init__(name, department_name)\n",
        "        self.student_name = student_name\n",
        "\n",
        "    def display_student(self):\n",
        "        print(f\"Student: {self.student_name}\")\n",
        "\n",
        "# Example Usage\n",
        "student = Student(\"Symbiosis\", \"Arts\", \"Tina\")\n",
        "student.display_university()  # Method from University\n",
        "student.display_department()  # Method from Department\n",
        "student.display_student()     # Method from Student\n"
      ],
      "metadata": {
        "colab": {
          "base_uri": "https://localhost:8080/"
        },
        "id": "ncWRO8d8qvx5",
        "outputId": "a6a1fd65-8b19-4c57-99c1-cf4679e5f98c"
      },
      "execution_count": 5,
      "outputs": [
        {
          "output_type": "stream",
          "name": "stdout",
          "text": [
            "University: Symbiosis\n",
            "Department: Arts\n",
            "Student: Tina\n"
          ]
        }
      ]
    },
    {
      "cell_type": "code",
      "source": [
        "#Hierarchial Inheritance\n",
        "\n",
        "# Base class\n",
        "class Person:\n",
        "    def __init__(self, name):\n",
        "        self.name = name\n",
        "\n",
        "    def display_name(self):\n",
        "        print(f\"Name: {self.name}\")\n",
        "\n",
        "# Derived classes\n",
        "class Professor(Person):\n",
        "    def teach(self):\n",
        "        print(f\"{self.name} is teaching.\")\n",
        "\n",
        "class Student(Person):\n",
        "    def study(self):\n",
        "        print(f\"{self.name} is studying.\")\n",
        "\n",
        "# Example Usage\n",
        "professor = Professor(\"Dr. Noor\")\n",
        "student = Student(\"Emma\")\n",
        "professor.display_name()  # Method from Person\n",
        "professor.teach()         # Method from Professor\n",
        "student.display_name()    # Method from Person\n",
        "student.study()           # Method from Student\n"
      ],
      "metadata": {
        "colab": {
          "base_uri": "https://localhost:8080/"
        },
        "id": "k9wXroHDq_21",
        "outputId": "0bef1166-5175-4c5b-9983-1f057425ba5f"
      },
      "execution_count": 7,
      "outputs": [
        {
          "output_type": "stream",
          "name": "stdout",
          "text": [
            "Name: Dr. Noor\n",
            "Dr. Noor is teaching.\n",
            "Name: Emma\n",
            "Emma is studying.\n"
          ]
        }
      ]
    },
    {
      "cell_type": "code",
      "source": [
        "#Hybrid Inheritance\n",
        "\n",
        "# Base classes\n",
        "class Person:\n",
        "    def __init__(self, name):\n",
        "        self.name = name\n",
        "\n",
        "class Course:\n",
        "    def __init__(self, course_name):\n",
        "        self.course_name = course_name\n",
        "\n",
        "# Derived class\n",
        "class TeachingAssistant(Person, Course):\n",
        "    def __init__(self, name, course_name, role):\n",
        "        Person.__init__(self, name)\n",
        "        Course.__init__(self, course_name)\n",
        "        self.role = role\n",
        "\n",
        "    def assist(self):\n",
        "        print(f\"{self.name} is assisting in {self.course_name} as {self.role}\")\n",
        "\n",
        "# Example Usage\n",
        "ta = TeachingAssistant(\"Dave\", \"Marketing\", \"Team Head.\")\n",
        "ta.assist()  # Method from TeachingAssistant\n"
      ],
      "metadata": {
        "colab": {
          "base_uri": "https://localhost:8080/"
        },
        "id": "d-AJTm4erUse",
        "outputId": "22025e74-bc8b-49a0-f948-927e62cb51d0"
      },
      "execution_count": 9,
      "outputs": [
        {
          "output_type": "stream",
          "name": "stdout",
          "text": [
            "Dave is assisting in Marketing as Team Head.\n"
          ]
        }
      ]
    }
  ]
}