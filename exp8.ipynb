{
  "nbformat": 4,
  "nbformat_minor": 0,
  "metadata": {
    "colab": {
      "provenance": [],
      "authorship_tag": "ABX9TyNoe6un0F0kyQpOtAw/GnCf",
      "include_colab_link": true
    },
    "kernelspec": {
      "name": "python3",
      "display_name": "Python 3"
    },
    "language_info": {
      "name": "python"
    }
  },
  "cells": [
    {
      "cell_type": "markdown",
      "metadata": {
        "id": "view-in-github",
        "colab_type": "text"
      },
      "source": [
        "<a href=\"https://colab.research.google.com/github/j4nav111/html-portfolio/blob/main/exp8.ipynb\" target=\"_parent\"><img src=\"https://colab.research.google.com/assets/colab-badge.svg\" alt=\"Open In Colab\"/></a>"
      ]
    },
    {
      "cell_type": "code",
      "source": [
        "#Code 1:\n",
        "def add(a,b):\n",
        "  return a+b\n",
        "result=add(3,5)\n",
        "print(result)"
      ],
      "metadata": {
        "colab": {
          "base_uri": "https://localhost:8080/"
        },
        "id": "Cw4WkfMnt7Xp",
        "outputId": "aa522f78-34e2-465f-d673-564ecb649006"
      },
      "execution_count": null,
      "outputs": [
        {
          "output_type": "stream",
          "name": "stdout",
          "text": [
            "8\n"
          ]
        }
      ]
    },
    {
      "cell_type": "code",
      "source": [
        "#Code 2:\n",
        "def greet(name):\n",
        "  print(\"Hello, \"+name)\n",
        "greet(\"Noor\")"
      ],
      "metadata": {
        "colab": {
          "base_uri": "https://localhost:8080/"
        },
        "id": "d64y4phMx1xo",
        "outputId": "4a26355f-a1db-4117-81bf-4861b9acdf7f"
      },
      "execution_count": null,
      "outputs": [
        {
          "output_type": "stream",
          "name": "stdout",
          "text": [
            "Hello, Noor\n"
          ]
        }
      ]
    },
    {
      "cell_type": "code",
      "source": [
        "#Code 3:\n",
        "creating a module('mymodule.py'):\n",
        "def greet(name):\n",
        "  return f{\"Hello, {name}!\"}\n",
        "\n",
        "#using module in another script('main py'):\n",
        "import my module\n",
        "print(mymodule.great(\"Alice\"))"
      ],
      "metadata": {
        "id": "qnBVbx2Xywmy"
      },
      "execution_count": null,
      "outputs": []
    },
    {
      "cell_type": "code",
      "source": [
        "#Code 4:\n",
        "#Reverse Program:-\n",
        "def reverse_no(n):\n",
        "  return int (str(n)[::-1])\n",
        "num=int(input(\"Enter a number:\"))\n",
        "print(\"Reversed number:\",reverse_no(num))"
      ],
      "metadata": {
        "colab": {
          "base_uri": "https://localhost:8080/"
        },
        "id": "L97AagrT0c1J",
        "outputId": "eefbce10-9c34-4598-b3c8-c62692d2c731"
      },
      "execution_count": null,
      "outputs": [
        {
          "output_type": "stream",
          "name": "stdout",
          "text": [
            "Enter a number:1234\n",
            "Reversed number: 4321\n"
          ]
        }
      ]
    },
    {
      "cell_type": "code",
      "source": [
        "#Code 5:\n",
        "def change_string(s1):\n",
        "    return s1[-1:] + s1[1:-1] + s1[:1]\n",
        "print(change_string('Python'))"
      ],
      "metadata": {
        "colab": {
          "base_uri": "https://localhost:8080/"
        },
        "id": "32aSQK4r24MX",
        "outputId": "19365290-04b2-4302-8c2b-9b46dc40ec64"
      },
      "execution_count": null,
      "outputs": [
        {
          "output_type": "stream",
          "name": "stdout",
          "text": [
            "nythoP\n"
          ]
        }
      ]
    }
  ]
}