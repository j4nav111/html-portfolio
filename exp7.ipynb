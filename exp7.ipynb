{
  "nbformat": 4,
  "nbformat_minor": 0,
  "metadata": {
    "colab": {
      "provenance": [],
      "authorship_tag": "ABX9TyN9HM/k4nnGks6fagQlSJq3",
      "include_colab_link": true
    },
    "kernelspec": {
      "name": "python3",
      "display_name": "Python 3"
    },
    "language_info": {
      "name": "python"
    }
  },
  "cells": [
    {
      "cell_type": "markdown",
      "metadata": {
        "id": "view-in-github",
        "colab_type": "text"
      },
      "source": [
        "<a href=\"https://colab.research.google.com/github/j4nav111/html-portfolio/blob/main/exp7.ipynb\" target=\"_parent\"><img src=\"https://colab.research.google.com/assets/colab-badge.svg\" alt=\"Open In Colab\"/></a>"
      ]
    },
    {
      "cell_type": "code",
      "source": [
        "#Code 1:\n",
        "my_set={1,2,3,4,5}\n",
        "print(my_set)\n",
        "for item in my_set:\n",
        "  print(item)\n",
        "my_set.add(6)\n",
        "my_set.update([7,8,9])\n",
        "print(my_set)\n",
        "my_set.remove(3)\n",
        "my_set.discard(10)\n",
        "print(my_set)\n",
        "del my_set"
      ],
      "metadata": {
        "colab": {
          "base_uri": "https://localhost:8080/"
        },
        "id": "xIGtEsxZlLrx",
        "outputId": "a04163e4-a6d6-4f9d-c72c-e5d60b313db4"
      },
      "execution_count": null,
      "outputs": [
        {
          "output_type": "stream",
          "name": "stdout",
          "text": [
            "{1, 2, 3, 4, 5}\n",
            "1\n",
            "2\n",
            "3\n",
            "4\n",
            "5\n",
            "{1, 2, 3, 4, 5, 6, 7, 8, 9}\n",
            "{1, 2, 4, 5, 6, 7, 8, 9}\n"
          ]
        }
      ]
    },
    {
      "cell_type": "code",
      "source": [
        "#Code 2:\n",
        "A={1,2,3,4,5}\n",
        "B={4,5,6,7,8}\n",
        "print(\"Insertion:\",A&B)\n",
        "print(\"Union:\",A|B)\n",
        "print(\"Difference(A-B):\",A-B)\n",
        "print(\"Symmetric Difference:\",A^B)\n",
        "A.clear()\n",
        "print(\"Set after clear:\",A)"
      ],
      "metadata": {
        "colab": {
          "base_uri": "https://localhost:8080/"
        },
        "id": "ycUNpnzyljOp",
        "outputId": "68e01533-80f2-45d2-c269-99087d50a42e"
      },
      "execution_count": null,
      "outputs": [
        {
          "output_type": "stream",
          "name": "stdout",
          "text": [
            "Insertion: {4, 5}\n",
            "Union: {1, 2, 3, 4, 5, 6, 7, 8}\n",
            "Difference(A-B): {1, 2, 3}\n",
            "Symmetric Difference: {1, 2, 3, 6, 7, 8}\n",
            "Set after clear: set()\n"
          ]
        }
      ]
    },
    {
      "cell_type": "code",
      "source": [
        "#Code 3:\n",
        "set1={10,20,30}\n",
        "set1.add(40)\n",
        "set1.update([50,60])\n",
        "print(set1)\n",
        "set1.remove(30)\n",
        "print(set1)"
      ],
      "metadata": {
        "colab": {
          "base_uri": "https://localhost:8080/"
        },
        "id": "we-ro9wNnSvC",
        "outputId": "bee257ea-4d21-4602-ad2e-85a033bc402d"
      },
      "execution_count": null,
      "outputs": [
        {
          "output_type": "stream",
          "name": "stdout",
          "text": [
            "{40, 10, 50, 20, 60, 30}\n",
            "{40, 10, 50, 20, 60}\n"
          ]
        }
      ]
    },
    {
      "cell_type": "code",
      "source": [
        "#Code 4:\n",
        "A={1,2,3,4,5}\n",
        "B={3,4,6,5,7}\n",
        "diff=A-B\n",
        "print(diff)"
      ],
      "metadata": {
        "colab": {
          "base_uri": "https://localhost:8080/"
        },
        "id": "BfbkHVaUnn91",
        "outputId": "142509be-25ff-4c3a-d3ee-fd493580a9f3"
      },
      "execution_count": null,
      "outputs": [
        {
          "output_type": "stream",
          "name": "stdout",
          "text": [
            "{1, 2}\n"
          ]
        }
      ]
    },
    {
      "cell_type": "code",
      "source": [
        "#Code 5:\n",
        "String=\"hello!\"\n",
        "str_set=set(String)\n",
        "print(str_set)"
      ],
      "metadata": {
        "colab": {
          "base_uri": "https://localhost:8080/"
        },
        "id": "TRILIV-roKin",
        "outputId": "c1c3ef25-33dd-4302-fbc2-8a3b7b6d6509"
      },
      "execution_count": null,
      "outputs": [
        {
          "output_type": "stream",
          "name": "stdout",
          "text": [
            "{'!', 'o', 'h', 'l', 'e'}\n"
          ]
        }
      ]
    },
    {
      "cell_type": "code",
      "source": [
        "#Code 6:\n",
        "set1={1,2,3,4}\n",
        "set2={3,4,5,6}\n",
        "common=set1&set2\n",
        "if common:\n",
        "  print(\"Sets have common elements:\",common)\n",
        "else:\n",
        "  print(\"No common element\")"
      ],
      "metadata": {
        "colab": {
          "base_uri": "https://localhost:8080/"
        },
        "id": "Hz_BcMlvoVGp",
        "outputId": "a5f21234-4a20-4b04-93e2-71951356fca6"
      },
      "execution_count": null,
      "outputs": [
        {
          "output_type": "stream",
          "name": "stdout",
          "text": [
            "Sets have common elements: {3, 4}\n"
          ]
        }
      ]
    }
  ]
}