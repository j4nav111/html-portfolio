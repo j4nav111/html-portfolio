{
  "nbformat": 4,
  "nbformat_minor": 0,
  "metadata": {
    "colab": {
      "provenance": [],
      "authorship_tag": "ABX9TyMKqMI2o3HXvJD6/Z+5mGiU",
      "include_colab_link": true
    },
    "kernelspec": {
      "name": "python3",
      "display_name": "Python 3"
    },
    "language_info": {
      "name": "python"
    }
  },
  "cells": [
    {
      "cell_type": "markdown",
      "metadata": {
        "id": "view-in-github",
        "colab_type": "text"
      },
      "source": [
        "<a href=\"https://colab.research.google.com/github/j4nav111/html-portfolio/blob/main/exp6.ipynb\" target=\"_parent\"><img src=\"https://colab.research.google.com/assets/colab-badge.svg\" alt=\"Open In Colab\"/></a>"
      ]
    },
    {
      "cell_type": "code",
      "execution_count": null,
      "metadata": {
        "id": "gdRm_W12LFGT",
        "colab": {
          "base_uri": "https://localhost:8080/"
        },
        "outputId": "ceeb767c-1648-4497-b4ec-77d2fdb98f9e"
      },
      "outputs": [
        {
          "output_type": "stream",
          "name": "stdout",
          "text": [
            "{'Brand': 'Porsche', 'Model': '911 GT3', 'Year': 1973}\n",
            "Porsche\n",
            "{'Brand': 'Porsche', 'Model': '911 GT3', 'Year': 1973, 'Color': 'Magenta'}\n",
            "{'Brand': 'Porsche', 'Model': '911 GT3', 'Color': 'Magenta'}\n",
            "{'Brand': 'McLaren', 'Model': 'F1', 'Year': 1992}\n",
            "{'Brand': 'McLaren', 'Model': 'F1', 'Color': 'Magenta', 'Year': 1992}\n",
            "dict_values(['McLaren', 'F1', 'Magenta', 1992])\n"
          ]
        }
      ],
      "source": [
        "#Code 1:\n",
        "d1={\n",
        "    \"Brand\":\"Porsche\",\n",
        "    \"Model\":\"911 GT3\",\n",
        "    \"Year\":1973\n",
        "}\n",
        "print(d1)\n",
        "print(d1[\"Brand\"])\n",
        "d1.update({\"Color\":\"Magenta\"})\n",
        "print(d1)\n",
        "del d1[\"Year\"]\n",
        "print(d1)\n",
        "\n",
        "d2={\n",
        "    \"Brand\":\"McLaren\",\n",
        "    \"Model\":\"F1\",\n",
        "    \"Year\":1992\n",
        "}\n",
        "print(d2)\n",
        "d1.update(d2)\n",
        "print(d1)\n",
        "print(d1.values())"
      ]
    },
    {
      "cell_type": "code",
      "source": [
        "#Code 2:\n",
        "d1={\n",
        "    \"x\":10,\n",
        "    \"y\":10,\n",
        "    \"z\":5\n",
        "}\n",
        "print(d1)\n",
        "result=sum(d1.values())\n",
        "print(result)"
      ],
      "metadata": {
        "colab": {
          "base_uri": "https://localhost:8080/"
        },
        "id": "hlRB5961RDqu",
        "outputId": "b7938cdc-9b95-4485-bfe6-d63942f0f365"
      },
      "execution_count": null,
      "outputs": [
        {
          "output_type": "stream",
          "name": "stdout",
          "text": [
            "{'x': 10, 'y': 10, 'z': 5}\n",
            "25\n"
          ]
        }
      ]
    },
    {
      "cell_type": "code",
      "source": [
        "#Code 3:\n",
        "d1={\n",
        "    \"Brand\":\"Porsche\",\n",
        "    \"Model\":\"911 GT3\",\n",
        "    \"Year\":1973,\n",
        "    \"Color\":\"Pink\"\n",
        "}\n",
        "print(d1)\n"
      ],
      "metadata": {
        "colab": {
          "base_uri": "https://localhost:8080/"
        },
        "id": "kR_fGRhoRTqO",
        "outputId": "9e405116-9ce7-4163-a2cd-d39038f16619"
      },
      "execution_count": null,
      "outputs": [
        {
          "output_type": "stream",
          "name": "stdout",
          "text": [
            "{'Brand': 'Porsche', 'Model': '911 GT3', 'Year': 1973, 'Color': 'Pink'}\n"
          ]
        }
      ]
    },
    {
      "cell_type": "code",
      "source": [
        "#Code 4:\n",
        "def sort_dict_by_value(d, reverse = False):\n",
        "    return dict(sorted(d.items(), key = lambda x: x[1], reverse = reverse))\n",
        "print(\"Original dictionary elements:\")\n",
        "colors = {'Red': 1, 'Green': 3, 'Black': 5, 'White': 2, 'Pink': 4}\n",
        "print(colors)\n",
        "print(\"\\nSort (ascending) the said dictionary elements by value:\")\n",
        "print(sort_dict_by_value(colors))\n",
        "print(\"\\nSort (descending) the said dictionary elements by value:\")\n",
        "print(sort_dict_by_value(colors, True))"
      ],
      "metadata": {
        "colab": {
          "base_uri": "https://localhost:8080/"
        },
        "id": "BYwbzc2aB30E",
        "outputId": "6cf807cd-1c4d-4537-e4f3-29e195fa23d6"
      },
      "execution_count": null,
      "outputs": [
        {
          "output_type": "stream",
          "name": "stdout",
          "text": [
            "Original dictionary elements:\n",
            "{'Red': 1, 'Green': 3, 'Black': 5, 'White': 2, 'Pink': 4}\n",
            "\n",
            "Sort (ascending) the said dictionary elements by value:\n",
            "{'Red': 1, 'White': 2, 'Green': 3, 'Pink': 4, 'Black': 5}\n",
            "\n",
            "Sort (descending) the said dictionary elements by value:\n",
            "{'Black': 5, 'Pink': 4, 'Green': 3, 'White': 2, 'Red': 1}\n"
          ]
        }
      ]
    },
    {
      "cell_type": "code",
      "source": [
        "#Code 5:\n",
        "dict1 = {1:10, 2:20}\n",
        "dict2 = {3:30, 4:40}\n",
        "dict3 = {5:50,6:60}\n",
        "dict4 = {}\n",
        "for d in (dict1, dict2, dict3):\n",
        "    dict4.update(d)\n",
        "print(dict4)\n"
      ],
      "metadata": {
        "colab": {
          "base_uri": "https://localhost:8080/"
        },
        "id": "7ASWykeODccN",
        "outputId": "f9e14bb4-90db-4cdb-c95f-69bd0b968d24"
      },
      "execution_count": null,
      "outputs": [
        {
          "output_type": "stream",
          "name": "stdout",
          "text": [
            "{1: 10, 2: 20, 3: 30, 4: 40, 5: 50, 6: 60}\n"
          ]
        }
      ]
    },
    {
      "cell_type": "code",
      "source": [
        "#Code 6:\n",
        "d1 = {'a': 100, 'b': 200, 'c':300}\n",
        "d2 = {'a': 300, 'b': 200, 'd':400}\n",
        "for key in dict2:\n",
        "    if key in dict1:\n",
        "        dict2[key] = dict2[key] + dict1[key]\n",
        "    else:\n",
        "        pass\n",
        "\n",
        "print(dict2)"
      ],
      "metadata": {
        "colab": {
          "base_uri": "https://localhost:8080/"
        },
        "id": "aLEzqULqEzIa",
        "outputId": "1a0cb055-a5ab-46f8-e684-ecce71b1d7b9"
      },
      "execution_count": null,
      "outputs": [
        {
          "output_type": "stream",
          "name": "stdout",
          "text": [
            "{3: 30, 4: 40}\n"
          ]
        }
      ]
    },
    {
      "cell_type": "code",
      "source": [
        "#Code 7:\n",
        "L = [{\"V\":\"S001\"}, {\"V\": \"S002\"}, {\"VI\": \"S001\"}, {\"VI\": \"S005\"},{\"VII\":\"S005\"}, {\"V\":\"S009\"}, {\"VIII\":\"S007\"}]\n",
        "print(\"Original List: \", L)\n",
        "u_value = set(val for dic in L for val in dic.values())\n",
        "print(\"Unique Values: \", u_value)"
      ],
      "metadata": {
        "colab": {
          "base_uri": "https://localhost:8080/"
        },
        "id": "4tQWgksMNfUZ",
        "outputId": "ce674138-678b-4218-b66c-73f45a894e2f"
      },
      "execution_count": null,
      "outputs": [
        {
          "output_type": "stream",
          "name": "stdout",
          "text": [
            "Original List:  [{'V': 'S001'}, {'V': 'S002'}, {'VI': 'S001'}, {'VI': 'S005'}, {'VII': 'S005'}, {'V': 'S009'}, {'VIII': 'S007'}]\n",
            "Unique Values:  {'S007', 'S002', 'S001', 'S005', 'S009'}\n"
          ]
        }
      ]
    }
  ]
}