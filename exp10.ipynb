{
  "nbformat": 4,
  "nbformat_minor": 0,
  "metadata": {
    "colab": {
      "provenance": [],
      "authorship_tag": "ABX9TyOQZ+Zn9n79VMRemCPxfwz4",
      "include_colab_link": true
    },
    "kernelspec": {
      "name": "python3",
      "display_name": "Python 3"
    },
    "language_info": {
      "name": "python"
    }
  },
  "cells": [
    {
      "cell_type": "markdown",
      "metadata": {
        "id": "view-in-github",
        "colab_type": "text"
      },
      "source": [
        "<a href=\"https://colab.research.google.com/github/j4nav111/html-portfolio/blob/main/exp10.ipynb\" target=\"_parent\"><img src=\"https://colab.research.google.com/assets/colab-badge.svg\" alt=\"Open In Colab\"/></a>"
      ]
    },
    {
      "cell_type": "code",
      "execution_count": null,
      "metadata": {
        "colab": {
          "base_uri": "https://localhost:8080/"
        },
        "id": "uRlRDVQJxc6d",
        "outputId": "80a3111b-64ac-4650-bd5f-0c885b271564"
      },
      "outputs": [
        {
          "output_type": "stream",
          "name": "stdout",
          "text": [
            "   Name  Location  Age\n",
            "0  John  New York   24\n",
            "1   Bob     Paris   13\n",
            "2  Sara    Berlin   53\n",
            "3   Ana    London   33\n"
          ]
        }
      ],
      "source": [
        "#Pandas Mondule: Working with date frames. Pandas is used for data analysis.\n",
        "import pandas as pd\n",
        "data={\n",
        "    \"Name\":[\"John\",\"Bob\",\"Sara\",\"Ana\"],\n",
        "    \"Location\":[\"New York\",\"Paris\",\"Berlin\",\"London\"],\n",
        "    \"Age\":[24,13,53,33]\n",
        "}\n",
        "df=pd.DataFrame(data)\n",
        "print(df)"
      ]
    },
    {
      "cell_type": "code",
      "source": [
        "#NumPy Module: Basic array operations, it is used for numerical computation.\n",
        "import numpy as np\n",
        "array1=np.array([1,2,3])\n",
        "array2=np.array([4,5,6])\n",
        "result=array1+array2\n",
        "print(\"Array 1:\", array1)\n",
        "print(\"Array 2:\", array2)\n",
        "print(\"Result(Addition)\", result)"
      ],
      "metadata": {
        "id": "eXikE4JzyESc",
        "colab": {
          "base_uri": "https://localhost:8080/"
        },
        "outputId": "5451b9e7-6a78-44b1-ec72-c07435061d88"
      },
      "execution_count": 1,
      "outputs": [
        {
          "output_type": "stream",
          "name": "stdout",
          "text": [
            "Array 1: [1 2 3]\n",
            "Array 2: [4 5 6]\n",
            "Result(Addition) [5 7 9]\n"
          ]
        }
      ]
    },
    {
      "cell_type": "code",
      "source": [
        "#Scikit-Learn: Simple linear regression, is used for machine learning tasks.\n",
        "from sklearn.linear_model import LinearRegression\n",
        "x=[[1],[2],[3]]\n",
        "y=[2,4,6]\n",
        "model=LinearRegression()\n",
        "model.fit(x,y)\n",
        "predicted=model.predict([[4],[5]])\n",
        "print(\"Predicted values:\", predicted[0])"
      ],
      "metadata": {
        "colab": {
          "base_uri": "https://localhost:8080/"
        },
        "id": "ciTR-YOpC1fN",
        "outputId": "08370aff-c28b-4f64-cd45-8823c6ea4747"
      },
      "execution_count": 7,
      "outputs": [
        {
          "output_type": "stream",
          "name": "stdout",
          "text": [
            "Predicted values: 7.999999999999999\n"
          ]
        }
      ]
    }
  ]
}