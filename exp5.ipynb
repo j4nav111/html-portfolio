{
  "nbformat": 4,
  "nbformat_minor": 0,
  "metadata": {
    "colab": {
      "provenance": [],
      "authorship_tag": "ABX9TyOh19LsMoKevY/9gcsxZoMS",
      "include_colab_link": true
    },
    "kernelspec": {
      "name": "python3",
      "display_name": "Python 3"
    },
    "language_info": {
      "name": "python"
    }
  },
  "cells": [
    {
      "cell_type": "markdown",
      "metadata": {
        "id": "view-in-github",
        "colab_type": "text"
      },
      "source": [
        "<a href=\"https://colab.research.google.com/github/j4nav111/html-portfolio/blob/main/exp5.ipynb\" target=\"_parent\"><img src=\"https://colab.research.google.com/assets/colab-badge.svg\" alt=\"Open In Colab\"/></a>"
      ]
    },
    {
      "cell_type": "code",
      "execution_count": 36,
      "metadata": {
        "colab": {
          "base_uri": "https://localhost:8080/"
        },
        "id": "aOzu17Q8PTc0",
        "outputId": "b86b725f-9209-4b82-a984-4a7fbe0e7d4d"
      },
      "outputs": [
        {
          "output_type": "stream",
          "name": "stdout",
          "text": [
            "Original tuple: ('apple', 'banana', 'cherry')\n",
            "Accessed tuple at index 1 is banana\n",
            "Updated tuple: ('apple', 'banana', 'pear')\n",
            "Deleting tuple.\n"
          ]
        }
      ],
      "source": [
        "#CODE 1:\n",
        "thistuple=(\"apple\",\"banana\",\"cherry\")\n",
        "print(\"Original tuple:\",thistuple)\n",
        "print(\"Accessed tuple at index 1 is\",thistuple[1])\n",
        "mytuple=list(thistuple)\n",
        "mytuple[2]=\"pear\"\n",
        "thistuple=tuple(mytuple)\n",
        "print(\"Updated tuple:\",thistuple)\n",
        "print(\"Deleting tuple.\")\n",
        "del thistuple"
      ]
    },
    {
      "cell_type": "code",
      "source": [
        "#CODE 2:\n",
        "x=(1,2,3,4,2,5,2)\n",
        "print(\"Tuple:\",x)\n",
        "for i in x:\n",
        "  if x.count(i)-1:\n",
        "    print(\"REPEATED!\")\n",
        "count=x.count(i)\n",
        "print(\"Item of the tuple is repeated\",count,\"times.\")"
      ],
      "metadata": {
        "colab": {
          "base_uri": "https://localhost:8080/"
        },
        "id": "UBDxiySeaGTU",
        "outputId": "454fdcac-920c-4173-ff5f-55775352da61"
      },
      "execution_count": 30,
      "outputs": [
        {
          "output_type": "stream",
          "name": "stdout",
          "text": [
            "Tuple: (1, 2, 3, 4, 2, 5, 2)\n",
            "REPEATED!\n",
            "REPEATED!\n",
            "REPEATED!\n",
            "Item of the tuple is repeated 3 times.\n"
          ]
        }
      ]
    },
    {
      "cell_type": "code",
      "source": [
        "#CODE 3:\n",
        "x=(2,4,6,1,9,5,8)\n",
        "print(\"Tuple:\",x)\n",
        "min(x)\n",
        "max(x)\n",
        "print(\"Minimum no. in tuple:\",min(x))\n",
        "print(\"Maximum no. in tuple:\",max(x))"
      ],
      "metadata": {
        "colab": {
          "base_uri": "https://localhost:8080/"
        },
        "id": "pPhr4R83q2gk",
        "outputId": "80dcd234-ae5f-402d-8b23-3ab97ee765f1"
      },
      "execution_count": 5,
      "outputs": [
        {
          "output_type": "stream",
          "name": "stdout",
          "text": [
            "Tuple:  (2, 4, 6, 1, 9, 5, 8)\n",
            "Minimum no. in tuple:  1\n",
            "Maximum no. in tuple:  9\n"
          ]
        }
      ]
    },
    {
      "cell_type": "code",
      "source": [
        "#CODE 4:\n",
        "x=(\"apple\",\"banana\",\"cherry\",\"melon\",\"mango\")\n",
        "print(\"Tuple:\",x)\n",
        "if \"cherry\" in x:\n",
        "  print(\"Element exists in tuple!\")\n",
        "else:\n",
        "  print(\"Element not found!\")"
      ],
      "metadata": {
        "colab": {
          "base_uri": "https://localhost:8080/"
        },
        "id": "iDHhKtXfwGdf",
        "outputId": "3ae8c0a7-f1e0-469f-b7c0-cfc09b5e0839"
      },
      "execution_count": 37,
      "outputs": [
        {
          "output_type": "stream",
          "name": "stdout",
          "text": [
            "Tuple: ('apple', 'banana', 'cherry', 'melon', 'mango')\n",
            "Element exists in tuple!\n"
          ]
        }
      ]
    },
    {
      "cell_type": "code",
      "source": [
        "#CODE 5:\n",
        "x=(1,2,3,4,5)\n",
        "print(\"Tuple:\",x)\n",
        "def ReversedTuple(tup):\n",
        "  return tup[::-1]\n",
        "print(\"Reversed tuple:\",ReversedTuple(x))"
      ],
      "metadata": {
        "colab": {
          "base_uri": "https://localhost:8080/"
        },
        "id": "Drg2yoK-xTA_",
        "outputId": "d67e6310-e462-4678-bc3c-d5d71ad22361"
      },
      "execution_count": 46,
      "outputs": [
        {
          "output_type": "stream",
          "name": "stdout",
          "text": [
            "Tuple: (1, 2, 3, 4, 5)\n",
            "Reversed tuple: (5, 4, 3, 2, 1)\n"
          ]
        }
      ]
    }
  ]
}