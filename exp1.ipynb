{
  "nbformat": 4,
  "nbformat_minor": 0,
  "metadata": {
    "colab": {
      "provenance": [],
      "authorship_tag": "ABX9TyM7slreGLxMh60IPDgILtQM",
      "include_colab_link": true
    },
    "kernelspec": {
      "name": "python3",
      "display_name": "Python 3"
    },
    "language_info": {
      "name": "python"
    }
  },
  "cells": [
    {
      "cell_type": "markdown",
      "metadata": {
        "id": "view-in-github",
        "colab_type": "text"
      },
      "source": [
        "<a href=\"https://colab.research.google.com/github/j4nav111/html-portfolio/blob/main/exp1.ipynb\" target=\"_parent\"><img src=\"https://colab.research.google.com/assets/colab-badge.svg\" alt=\"Open In Colab\"/></a>"
      ]
    },
    {
      "cell_type": "code",
      "execution_count": 1,
      "metadata": {
        "colab": {
          "base_uri": "https://localhost:8080/"
        },
        "id": "5irjZKdE-tp0",
        "outputId": "7b91eed6-62d2-4495-9742-98a65b471d6d"
      },
      "outputs": [
        {
          "output_type": "stream",
          "name": "stdout",
          "text": [
            "Enter a: 5\n",
            "Enter b: 10\n",
            "15\n"
          ]
        }
      ],
      "source": [
        "#arithmetic\n",
        "a=int(input(\"Enter a: \"))\n",
        "b=int(input(\"Enter b: \"))\n",
        "sum=a+b\n",
        "print(sum)"
      ]
    },
    {
      "cell_type": "code",
      "source": [
        "#logical\n",
        "a=int(input(\"Enter a: \"))\n",
        "if a>0 and a<10:\n",
        "    print(\"It is a single digit number\")\n",
        "else:\n",
        "    print(\"not a single digit no.\")"
      ],
      "metadata": {
        "colab": {
          "base_uri": "https://localhost:8080/"
        },
        "id": "4GrIaY3p-5fO",
        "outputId": "7ebb6bd1-2e38-4e7c-a2f8-b22225947e0b"
      },
      "execution_count": 2,
      "outputs": [
        {
          "output_type": "stream",
          "name": "stdout",
          "text": [
            "Enter a: 51\n",
            "not a single digit no.\n"
          ]
        }
      ]
    },
    {
      "cell_type": "code",
      "source": [
        "#bitwise\n",
        "print(10 & 4)"
      ],
      "metadata": {
        "colab": {
          "base_uri": "https://localhost:8080/"
        },
        "id": "TyPM9Axh_E8j",
        "outputId": "29caab4d-3ac9-4eb7-801a-51bc6f54ad50"
      },
      "execution_count": 3,
      "outputs": [
        {
          "output_type": "stream",
          "name": "stdout",
          "text": [
            "0\n"
          ]
        }
      ]
    },
    {
      "cell_type": "code",
      "source": [
        "#identity\n",
        "x=[\"abc\",\"def\"]\n",
        "y=[\"abc\",\"def\"]\n",
        "z=y\n",
        "print(x is y)\n",
        "print(y is z)\n",
        "print( z is x)"
      ],
      "metadata": {
        "colab": {
          "base_uri": "https://localhost:8080/"
        },
        "id": "DiQcbVTQ_Jqn",
        "outputId": "0df68aab-ee0d-467f-9fea-b8fcc37c74b2"
      },
      "execution_count": 4,
      "outputs": [
        {
          "output_type": "stream",
          "name": "stdout",
          "text": [
            "False\n",
            "True\n",
            "False\n"
          ]
        }
      ]
    },
    {
      "cell_type": "code",
      "source": [
        "#calculate area and perimeter of a square\n",
        "s=float(input(\"Enter the side of the square: \"))\n",
        "psq=4*s\n",
        "asq=s*s\n",
        "print(\"The perimeter is: \")\n",
        "print(psq)\n",
        "print(\"The area is: \")\n",
        "print(asq)"
      ],
      "metadata": {
        "colab": {
          "base_uri": "https://localhost:8080/"
        },
        "id": "7N4ePFud_OWl",
        "outputId": "88c5629f-597a-4c59-a1f0-fa4cc5344a86"
      },
      "execution_count": 5,
      "outputs": [
        {
          "output_type": "stream",
          "name": "stdout",
          "text": [
            "Enter the side of the square: 2.5\n",
            "The perimeter is: \n",
            "10.0\n",
            "The area is: \n",
            "6.25\n"
          ]
        }
      ]
    },
    {
      "cell_type": "code",
      "source": [
        "#swap values\n",
        "a=int(input(\"Enter value of a: \"))\n",
        "b=int(input(\"Enter value of b: \"))\n",
        "temp=a\n",
        "a=b\n",
        "b=temp\n",
        "print(\"Value of a is: \",a)\n",
        "print(\"Value of b is: \",b)"
      ],
      "metadata": {
        "colab": {
          "base_uri": "https://localhost:8080/"
        },
        "id": "l6Z7Yq82_SI0",
        "outputId": "abd99e6e-d979-486b-e4ba-2c0629f5ad99"
      },
      "execution_count": 6,
      "outputs": [
        {
          "output_type": "stream",
          "name": "stdout",
          "text": [
            "Enter value of a: 5\n",
            "Enter value of b: 2\n",
            "Value of a is:  2\n",
            "Value of b is:  5\n"
          ]
        }
      ]
    },
    {
      "cell_type": "code",
      "source": [
        "#even odd\n",
        "num=int(input(\"Enter a number to check odd or even: \"))\n",
        "if num%2==0:\n",
        "    print(\"Number is EVEN!\")\n",
        "else:\n",
        "    print(\"Number is ODD!\")"
      ],
      "metadata": {
        "colab": {
          "base_uri": "https://localhost:8080/"
        },
        "id": "oU0WoQAa_UnZ",
        "outputId": "0e5b9610-5043-4952-82a2-dfbac297dbf5"
      },
      "execution_count": 7,
      "outputs": [
        {
          "output_type": "stream",
          "name": "stdout",
          "text": [
            "Enter a number to check odd or even: 2\n",
            "Number is EVEN!\n"
          ]
        }
      ]
    },
    {
      "cell_type": "code",
      "source": [
        "#area of a triangle\n",
        "a = 5\n",
        "b = 6\n",
        "c = 7\n",
        "sp=(a+b+c)/2\n",
        "area = (sp*(sp-a)*(sp-b)*(sp-c)) ** 0.5\n",
        "print('The area of the triangle is %0.2f' %area)"
      ],
      "metadata": {
        "colab": {
          "base_uri": "https://localhost:8080/"
        },
        "id": "YJSuoDyL_W2X",
        "outputId": "5eb2cc12-bd54-48f6-b19d-150a7707e984"
      },
      "execution_count": 8,
      "outputs": [
        {
          "output_type": "stream",
          "name": "stdout",
          "text": [
            "The area of the triangle is 14.70\n"
          ]
        }
      ]
    },
    {
      "cell_type": "markdown",
      "source": [
        "Purva's codes:"
      ],
      "metadata": {
        "id": "_U9uHH7dGz5O"
      }
    },
    {
      "cell_type": "code",
      "source": [
        "year=int(input(\"enter the year: \"))\n",
        "if year%4==0:\n",
        "  print(\"The year is a leap year\")\n",
        "else:\n",
        "  print(\"The year is not a leap year\")"
      ],
      "metadata": {
        "colab": {
          "base_uri": "https://localhost:8080/"
        },
        "id": "h2VKOFMRG15C",
        "outputId": "3222e51a-f46d-4cd3-e9c5-de36e0709fd6"
      },
      "execution_count": 10,
      "outputs": [
        {
          "output_type": "stream",
          "name": "stdout",
          "text": [
            "enter the year: 2020\n",
            "The year is a leap year\n"
          ]
        }
      ]
    },
    {
      "cell_type": "code",
      "source": [
        "marks1=int(input(\"enter marks of the 1st subject: \"))\n"
      ],
      "metadata": {
        "id": "i61gOQ8cHY2p"
      },
      "execution_count": null,
      "outputs": []
    }
  ]
}