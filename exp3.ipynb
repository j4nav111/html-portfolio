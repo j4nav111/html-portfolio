{
  "nbformat": 4,
  "nbformat_minor": 0,
  "metadata": {
    "colab": {
      "provenance": [],
      "authorship_tag": "ABX9TyMwjWUwPcdo2ky25LzXMO5o",
      "include_colab_link": true
    },
    "kernelspec": {
      "name": "python3",
      "display_name": "Python 3"
    },
    "language_info": {
      "name": "python"
    }
  },
  "cells": [
    {
      "cell_type": "markdown",
      "metadata": {
        "id": "view-in-github",
        "colab_type": "text"
      },
      "source": [
        "<a href=\"https://colab.research.google.com/github/j4nav111/html-portfolio/blob/main/exp3.ipynb\" target=\"_parent\"><img src=\"https://colab.research.google.com/assets/colab-badge.svg\" alt=\"Open In Colab\"/></a>"
      ]
    },
    {
      "cell_type": "code",
      "execution_count": null,
      "metadata": {
        "id": "Cm8yYTypH8vu",
        "colab": {
          "base_uri": "https://localhost:8080/"
        },
        "outputId": "aaefefb4-ea4e-4a07-ef9c-5d357f8a7c2d"
      },
      "outputs": [
        {
          "output_type": "stream",
          "name": "stdout",
          "text": [
            "Enter a no.: 2873\n",
            "Reversed no.:  3782\n"
          ]
        }
      ],
      "source": [
        "#Code 1:\n",
        "n=int(input(\"Enter a no.: \"))\n",
        "reverse_n=0\n",
        "while n>0:\n",
        "    digit=n%10\n",
        "    reverse_n=reverse_n*10+digit\n",
        "    n=n//10\n",
        "print(\"Reversed no.: \", reverse_n)"
      ]
    },
    {
      "cell_type": "code",
      "source": [
        "#Code 2:\n",
        "n=2\n",
        "while n<=100:\n",
        "    print(n, end=\" \")\n",
        "    n+=2"
      ],
      "metadata": {
        "id": "qG0df7wZPGCl",
        "colab": {
          "base_uri": "https://localhost:8080/"
        },
        "outputId": "f5f7c70c-dd39-4860-8d5b-576b07542f6d"
      },
      "execution_count": null,
      "outputs": [
        {
          "output_type": "stream",
          "name": "stdout",
          "text": [
            "2 4 6 8 10 12 14 16 18 20 22 24 26 28 30 32 34 36 38 40 42 44 46 48 50 52 54 56 58 60 62 64 66 68 70 72 74 76 78 80 82 84 86 88 90 92 94 96 98 100 "
          ]
        }
      ]
    },
    {
      "cell_type": "code",
      "source": [
        "#Code 3:\n",
        "r=5\n",
        "for i in range(1, r+1, 2):\n",
        "\n",
        "    print(\" \"*((r-i)//2)+\"*\"*i)\n",
        "\n",
        "for i in range(r-2, 0, -2):\n",
        "\n",
        "    print(\" \"*((r-i)//2)+\"*\"*i)"
      ],
      "metadata": {
        "id": "Xii2sTxjPIcm",
        "colab": {
          "base_uri": "https://localhost:8080/"
        },
        "outputId": "c176b594-3448-4aa1-ade4-73ccc8789b81"
      },
      "execution_count": null,
      "outputs": [
        {
          "output_type": "stream",
          "name": "stdout",
          "text": [
            "  *\n",
            " ***\n",
            "*****\n",
            " ***\n",
            "  *\n"
          ]
        }
      ]
    }
  ]
}