{
  "nbformat": 4,
  "nbformat_minor": 0,
  "metadata": {
    "colab": {
      "provenance": [],
      "authorship_tag": "ABX9TyPfqktvkuQ7wPkBe9f6aT/4",
      "include_colab_link": true
    },
    "kernelspec": {
      "name": "python3",
      "display_name": "Python 3"
    },
    "language_info": {
      "name": "python"
    }
  },
  "cells": [
    {
      "cell_type": "markdown",
      "metadata": {
        "id": "view-in-github",
        "colab_type": "text"
      },
      "source": [
        "<a href=\"https://colab.research.google.com/github/j4nav111/html-portfolio/blob/main/exp4.ipynb\" target=\"_parent\"><img src=\"https://colab.research.google.com/assets/colab-badge.svg\" alt=\"Open In Colab\"/></a>"
      ]
    },
    {
      "cell_type": "markdown",
      "source": [
        "List 1: (apple, banana, cherry)\n",
        "List 2: (1, 2, 3)"
      ],
      "metadata": {
        "id": "zxr4l4TciP7I"
      }
    },
    {
      "cell_type": "code",
      "source": [
        "#CODE 1:\n",
        "#Creating list, Accessing list, Updating list(add item & remove item), Deleting list:\n",
        "List1=[\"apple\", \"banana\", \"cherry\"]\n",
        "List2=[1, 2, 3]\n",
        "print(List1)\n",
        "print(List2)\n",
        "List1.insert(2,\"melon\")\n",
        "List1.append(\"mango\")\n",
        "print(List1)\n",
        "print(List2)\n",
        "List1.pop()\n",
        "print(List1)\n",
        "print(List2)\n",
        "List1.remove(\"apple\")\n",
        "print(List1)\n",
        "del List2"
      ],
      "metadata": {
        "colab": {
          "base_uri": "https://localhost:8080/"
        },
        "id": "7e8MO2ZDibEa",
        "outputId": "ca7f9388-5d6e-4fb6-c28f-207726a062fe"
      },
      "execution_count": 14,
      "outputs": [
        {
          "output_type": "stream",
          "name": "stdout",
          "text": [
            "['apple', 'banana', 'cherry']\n",
            "[1, 2, 3]\n",
            "['apple', 'banana', 'melon', 'cherry', 'mango']\n",
            "[1, 2, 3]\n",
            "['apple', 'banana', 'melon', 'cherry']\n",
            "[1, 2, 3]\n",
            "['banana', 'melon', 'cherry']\n"
          ]
        }
      ]
    },
    {
      "cell_type": "code",
      "source": [
        "#CODE 2:\n",
        "x=[1, 2, 3, 4, 5]\n",
        "for value in x:\n",
        "    if value%2==0:\n",
        "        print(value, end=\" \")"
      ],
      "metadata": {
        "colab": {
          "base_uri": "https://localhost:8080/"
        },
        "id": "lMKHkl6rlC1K",
        "outputId": "22d4f973-6452-4983-dc8b-313510e68fe0"
      },
      "execution_count": 15,
      "outputs": [
        {
          "output_type": "stream",
          "name": "stdout",
          "text": [
            "2 4 "
          ]
        }
      ]
    },
    {
      "cell_type": "code",
      "source": [
        "#CODE 3:\n",
        "a=[2, 4, 6, 8, 10, 15]\n",
        "b=[14, 5, 6, 7, 8, 1]\n",
        "common=list(set(a)&set(b))\n",
        "print(common)"
      ],
      "metadata": {
        "colab": {
          "base_uri": "https://localhost:8080/"
        },
        "id": "7NiQ1eK7lztT",
        "outputId": "36d28f15-b22b-4d5f-990e-9502b29a5de5"
      },
      "execution_count": 17,
      "outputs": [
        {
          "output_type": "stream",
          "name": "stdout",
          "text": [
            "[8, 6]\n"
          ]
        }
      ]
    },
    {
      "cell_type": "code",
      "source": [
        "#CODE 4:\n",
        "mylist=[0, 2, 6, 4, 8]\n",
        "mylist[0], mylist[-1]=mylist[-1], mylist[0]\n",
        "print(\"List after swapping first and last elements:\", mylist)"
      ],
      "metadata": {
        "colab": {
          "base_uri": "https://localhost:8080/"
        },
        "id": "eceiFBedmdJ5",
        "outputId": "113a2117-a08c-4202-d89b-63ce304ed4b8"
      },
      "execution_count": 19,
      "outputs": [
        {
          "output_type": "stream",
          "name": "stdout",
          "text": [
            "List after swapping first and last elements: [8, 2, 6, 4, 0]\n"
          ]
        }
      ]
    },
    {
      "cell_type": "code",
      "source": [
        "#CODE 5:\n",
        "thislist=[\"apple\", \"kiwi\", \"banana\", \"mango\", \"cherry\"]\n",
        "if 'kiwi' in thislist:\n",
        "    print(\"Element exists in the list!\")\n",
        "else:\n",
        "    print(\"Element does not exist!\")"
      ],
      "metadata": {
        "colab": {
          "base_uri": "https://localhost:8080/"
        },
        "id": "pa0UNyeVm1IR",
        "outputId": "3519097b-c829-4b1f-ecac-83595ee35e57"
      },
      "execution_count": 21,
      "outputs": [
        {
          "output_type": "stream",
          "name": "stdout",
          "text": [
            "Element exists in the list!\n"
          ]
        }
      ]
    }
  ]
}